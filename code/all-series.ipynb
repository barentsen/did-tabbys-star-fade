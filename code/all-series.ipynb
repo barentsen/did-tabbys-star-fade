{
 "cells": [
  {
   "cell_type": "code",
   "execution_count": 3,
   "metadata": {
    "collapsed": false
   },
   "outputs": [
    {
     "name": "stdout",
     "output_type": "stream",
     "text": [
      "The autoreload extension is already loaded. To reload it, use:\n",
      "  %reload_ext autoreload\n"
     ]
    }
   ],
   "source": [
    "import numpy as np\n",
    "import matplotlib.pyplot as plt\n",
    "import pandas as pd\n",
    "from astropy.time import Time\n",
    "\n",
    "import glob\n",
    "\n",
    "%load_ext autoreload\n",
    "%autoreload 2\n",
    "\n",
    "%matplotlib inline"
   ]
  },
  {
   "cell_type": "code",
   "execution_count": 2,
   "metadata": {
    "collapsed": true
   },
   "outputs": [],
   "source": [
    "import mcmc_funcs"
   ]
  },
  {
   "cell_type": "code",
   "execution_count": null,
   "metadata": {
    "collapsed": false
   },
   "outputs": [
    {
     "name": "stderr",
     "output_type": "stream",
     "text": [
      "WARNING: ErfaWarning: ERFA function \"d2dtf\" yielded 6 of \"dubious year (Note 5)\" [astropy._erfa.core]\n",
      "WARNING:astropy:ErfaWarning: ERFA function \"d2dtf\" yielded 6 of \"dubious year (Note 5)\"\n",
      "WARNING: ErfaWarning: ERFA function \"dtf2d\" yielded 6 of \"dubious year (Note 6)\" [astropy._erfa.core]\n",
      "WARNING:astropy:ErfaWarning: ERFA function \"dtf2d\" yielded 6 of \"dubious year (Note 6)\"\n",
      "WARNING: ErfaWarning: ERFA function \"d2dtf\" yielded 171 of \"dubious year (Note 5)\" [astropy._erfa.core]\n",
      "WARNING:astropy:ErfaWarning: ERFA function \"d2dtf\" yielded 171 of \"dubious year (Note 5)\"\n",
      "WARNING: ErfaWarning: ERFA function \"dtf2d\" yielded 171 of \"dubious year (Note 6)\" [astropy._erfa.core]\n",
      "WARNING:astropy:ErfaWarning: ERFA function \"dtf2d\" yielded 171 of \"dubious year (Note 6)\"\n"
     ]
    }
   ],
   "source": [
    "snums = [1,19,24,43,7,11,2,25,44,82,12,20,27,48,13,23,31,5]\n",
    "for snum in snums:\n",
    "    df = pd.read_csv('../data/series/series-{}.csv'.format(snum))\n",
    "    q = Time(df.ExposureDate, format='jd')\n",
    "    q.format = 'decimalyear'\n",
    "    x = q.value\n",
    "    y = df.magcal_magdep\n",
    "    yerr = df.magcal_local_rms\n",
    "    \n",
    "    sampler = mcmc_funcs.mcmc(x, y, yerr, print_output=True, nwalkers=250, nsamp=300)\n",
    "    \n",
    "    fig = mcmc_funcs.plot_samples(sampler, [x,y,yerr], burnin=2000,sampsize=300, fill=True)\n",
    "    #fig.axes[0].set_xlim(2414773,2434255)\n",
    "    #axes[0].set_xlim(2414773.814902,2434255.624359)\n",
    "    fig.axes[0].set_ylim(14,11)\n",
    "    fig.savefig('../figs/series/series-{}.png'.format(snum), dpi=150)"
   ]
  },
  {
   "cell_type": "code",
   "execution_count": null,
   "metadata": {
    "collapsed": true
   },
   "outputs": [],
   "source": []
  }
 ],
 "metadata": {
  "kernelspec": {
   "display_name": "Python 3",
   "language": "python",
   "name": "python3"
  },
  "language_info": {
   "codemirror_mode": {
    "name": "ipython",
    "version": 3
   },
   "file_extension": ".py",
   "mimetype": "text/x-python",
   "name": "python",
   "nbconvert_exporter": "python",
   "pygments_lexer": "ipython3",
   "version": "3.4.3"
  }
 },
 "nbformat": 4,
 "nbformat_minor": 0
}
