{
 "cells": [
  {
   "cell_type": "code",
   "execution_count": 100,
   "metadata": {
    "collapsed": false
   },
   "outputs": [
    {
     "name": "stdout",
     "output_type": "stream",
     "text": [
      "The autoreload extension is already loaded. To reload it, use:\n",
      "  %reload_ext autoreload\n"
     ]
    }
   ],
   "source": [
    "import numpy as np\n",
    "import matplotlib.pyplot as plt\n",
    "import pandas as pd\n",
    "from astropy.time import Time\n",
    "\n",
    "%load_ext autoreload\n",
    "%autoreload 2\n",
    "\n",
    "%matplotlib inline"
   ]
  },
  {
   "cell_type": "code",
   "execution_count": 101,
   "metadata": {
    "collapsed": false
   },
   "outputs": [],
   "source": [
    "import mcmc_funcs"
   ]
  },
  {
   "cell_type": "code",
   "execution_count": 102,
   "metadata": {
    "collapsed": false
   },
   "outputs": [
    {
     "name": "stderr",
     "output_type": "stream",
     "text": [
      "WARNING: ErfaWarning: ERFA function \"d2dtf\" yielded 32 of \"dubious year (Note 5)\" [astropy._erfa.core]\n",
      "WARNING:astropy:ErfaWarning: ERFA function \"d2dtf\" yielded 32 of \"dubious year (Note 5)\"\n",
      "WARNING: ErfaWarning: ERFA function \"dtf2d\" yielded 32 of \"dubious year (Note 6)\" [astropy._erfa.core]\n",
      "WARNING:astropy:ErfaWarning: ERFA function \"dtf2d\" yielded 32 of \"dubious year (Note 6)\"\n"
     ]
    }
   ],
   "source": [
    "shaefer_data = False\n",
    "if shaefer_data:\n",
    "    _ = np.genfromtxt('../data/data-from-schaefer-paper.csv', unpack=True, skip_header=1, delimiter=',')\n",
    "    x = _[0]\n",
    "    y = _[4]\n",
    "    yerr = _[5]\n",
    "\n",
    "else:\n",
    "    snum = 44\n",
    "    df = pd.read_csv('../data/series/series-{}.csv'.format(snum))\n",
    "    q = Time(df.ExposureDate, format='jd')\n",
    "    q.format = 'decimalyear'\n",
    "    x = q.value\n",
    "    y = df.magcal_magdep\n",
    "    yerr = df.magcal_local_rms"
   ]
  },
  {
   "cell_type": "code",
   "execution_count": 105,
   "metadata": {
    "collapsed": false
   },
   "outputs": [
    {
     "name": "stdout",
     "output_type": "stream",
     "text": [
      "MCMC result:\n",
      "            m = -0.020738923603165153 +8.54224211651114e-05 -0.00012455598294583425\n",
      "            b = 52.44440089963006 +9.472547252897812e-05 -0.0001042543729568024\n",
      "            f = 7.80055164384629e-34 +7.798616977528856e-38 -8.6530581083856e-38\n",
      "            \n"
     ]
    }
   ],
   "source": [
    "sampler = mcmc_funcs.mcmc(x, y, yerr, print_output=True, nwalkers=250, nsamp=300)"
   ]
  },
  {
   "cell_type": "code",
   "execution_count": 106,
   "metadata": {
    "collapsed": false
   },
   "outputs": [
    {
     "data": {
      "image/png": "[encoded data removed]",
      "text/plain": [
       "<matplotlib.figure.Figure at 0x119759898>"
      ]
     },
     "metadata": {},
     "output_type": "display_data"
    }
   ],
   "source": [
    "fig = mcmc_funcs.plot_samples(sampler, [x,y,yerr], burnin=2000,sampsize=300, fill=True)\n",
    "#fig.axes[0].set_xlim(2414773,2434255)\n",
    "#axes[0].set_xlim(2414773.814902,2434255.624359)\n",
    "fig.axes[0].set_ylim(14,11)\n",
    "fig.savefig('../figs/series/series-{}.png'.format(snum), dpi=150)"
   ]
  },
  {
   "cell_type": "code",
   "execution_count": 89,
   "metadata": {
    "collapsed": false
   },
   "outputs": [
    {
     "name": "stderr",
     "output_type": "stream",
     "text": [
      "WARNING: ErfaWarning: ERFA function \"d2dtf\" yielded 32 of \"dubious year (Note 5)\" [astropy._erfa.core]\n",
      "WARNING:astropy:ErfaWarning: ERFA function \"d2dtf\" yielded 32 of \"dubious year (Note 5)\"\n",
      "WARNING: ErfaWarning: ERFA function \"dtf2d\" yielded 32 of \"dubious year (Note 6)\" [astropy._erfa.core]\n",
      "WARNING:astropy:ErfaWarning: ERFA function \"dtf2d\" yielded 32 of \"dubious year (Note 6)\"\n"
     ]
    },
    {
     "data": {
      "text/plain": [
       "array([ 1924.27950955,  1924.32311355,  1924.41607817,  1924.52507326,\n",
       "        1924.54967062,  1924.65607567,  1924.66690276,  1924.71883715,\n",
       "        1925.78631558,  1925.87943734,  1926.86291842,  1926.89304001,\n",
       "        1927.26400161,  1927.43366784,  1927.47176169,  1927.51828629,\n",
       "        1927.57313912,  1927.58937624,  1927.58950526,  1927.59493659,\n",
       "        1927.60582104,  1927.62238626,  1927.67963674,  1927.70972403,\n",
       "        1927.7289498 ,  1927.73175121,  1927.75904338,  1927.76165979,\n",
       "        1927.76177552,  1927.82188818,  1927.82735622,  1927.88487207])"
      ]
     },
     "execution_count": 89,
     "metadata": {},
     "output_type": "execute_result"
    }
   ],
   "source": []
  },
  {
   "cell_type": "code",
   "execution_count": null,
   "metadata": {
    "collapsed": true
   },
   "outputs": [],
   "source": []
  }
 ],
 "metadata": {
  "kernelspec": {
   "display_name": "Python 3",
   "language": "python",
   "name": "python3"
  },
  "language_info": {
   "codemirror_mode": {
    "name": "ipython",
    "version": 3
   },
   "file_extension": ".py",
   "mimetype": "text/x-python",
   "name": "python",
   "nbconvert_exporter": "python",
   "pygments_lexer": "ipython3",
   "version": "3.4.3"
  }
 },
 "nbformat": 4,
 "nbformat_minor": 0
}
